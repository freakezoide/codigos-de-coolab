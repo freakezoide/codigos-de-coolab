{
  "nbformat": 4,
  "nbformat_minor": 0,
  "metadata": {
    "colab": {
      "provenance": [],
      "authorship_tag": "ABX9TyP8EFp9YXmgiGor1D8pwT4I",
      "include_colab_link": true
    },
    "kernelspec": {
      "name": "python3",
      "display_name": "Python 3"
    },
    "language_info": {
      "name": "python"
    }
  },
  "cells": [
    {
      "cell_type": "markdown",
      "metadata": {
        "id": "view-in-github",
        "colab_type": "text"
      },
      "source": [
        "<a href=\"https://colab.research.google.com/github/freakezoide/codigos-de-coolab/blob/main/limpieza_de_datos_primaria_desde_2019_hasta_2024_RForest.ipynb\" target=\"_parent\"><img src=\"https://colab.research.google.com/assets/colab-badge.svg\" alt=\"Open In Colab\"/></a>"
      ]
    },
    {
      "cell_type": "code",
      "source": [
        "import pandas as pd\n",
        "import numpy as np\n",
        "from sklearn.ensemble import RandomForestClassifier\n",
        "from sklearn.model_selection import train_test_split, GridSearchCV\n",
        "from sklearn.metrics import accuracy_score, classification_report\n",
        "from sklearn.preprocessing import LabelEncoder\n",
        "from sklearn.impute import SimpleImputer\n",
        "import matplotlib.pyplot as plt\n",
        "import seaborn as sns\n",
        "\n",
        "# Cargar los datos limpios (usando tu función existente)\n",
        "df = pd.read_csv('datos_educativos_limpios.csv')\n",
        "\n",
        "## 1. Preparación de datos para modelado\n",
        "def preparar_datos(df):\n",
        "    # Codificar variables categóricas\n",
        "    le = LabelEncoder()\n",
        "    df['Departamento'] = le.fit_transform(df['Departamento'])\n",
        "    df['Mes'] = le.fit_transform(df['Mes'])\n",
        "\n",
        "    # Crear variable objetivo (puedes ajustar esto según tu necesidad)\n",
        "    # Ejemplo: Clasificar si la interacción general es alta\n",
        "    df['InteraccionGeneral'] = (df['InteraccionCREA'] == 'Alta') | \\\n",
        "                              (df['InteraccionMAT'] == 'Alta') | \\\n",
        "                              (df['InteraccionBiblioteca'] == 'Alta')\n",
        "    df['InteraccionGeneral'] = df['InteraccionGeneral'].astype(int)\n",
        "\n",
        "    # Seleccionar características y objetivo\n",
        "    X = df[['Departamento', 'Mes', 'Año', 'UsuariosCREA', 'UsuariosMAT', 'UsuariosBiblioteca']]\n",
        "    y = df['InteraccionGeneral']\n",
        "\n",
        "    # Manejar valores faltantes\n",
        "    imputer = SimpleImputer(strategy='median')\n",
        "    X = pd.DataFrame(imputer.fit_transform(X), columns=X.columns)\n",
        "\n",
        "    return X, y\n",
        "\n",
        "X, y = preparar_datos(df)"
      ],
      "metadata": {
        "id": "ybK1IFFgpU6X"
      },
      "execution_count": 17,
      "outputs": []
    },
    {
      "cell_type": "markdown",
      "source": [
        "Modelado con Random Forest optimizado"
      ],
      "metadata": {
        "id": "w123SXfjpYna"
      }
    },
    {
      "cell_type": "code",
      "source": [
        "def entrenar_modelo(X, y):\n",
        "    # Dividir datos\n",
        "    X_train, X_test, y_train, y_test = train_test_split(X, y, test_size=0.3, random_state=42)\n",
        "\n",
        "    # Configurar el modelo base\n",
        "    rf = RandomForestClassifier(random_state=42)\n",
        "\n",
        "    # Hiperparámetros para optimizar\n",
        "    param_grid = {\n",
        "        'n_estimators': [100, 200, 300],\n",
        "        'max_depth': [None, 10, 20, 30],\n",
        "        'min_samples_split': [2, 5, 10],\n",
        "        'min_samples_leaf': [1, 2, 4],\n",
        "        'bootstrap': [True, False]\n",
        "    }\n",
        "\n",
        "    # Búsqueda de cuadrícula con validación cruzada\n",
        "    grid_search = GridSearchCV(estimator=rf, param_grid=param_grid,\n",
        "                              cv=5, n_jobs=-1, verbose=2, scoring='accuracy')\n",
        "    grid_search.fit(X_train, y_train)\n",
        "\n",
        "    # Mejor modelo\n",
        "    best_rf = grid_search.best_estimator_\n",
        "\n",
        "    # Evaluación\n",
        "    y_pred = best_rf.predict(X_test)\n",
        "    accuracy = accuracy_score(y_test, y_pred)\n",
        "\n",
        "    print(f\"\\nMejor modelo: {grid_search.best_params_}\")\n",
        "    print(f\"Accuracy: {accuracy:.4f}\")\n",
        "    print(\"\\nReporte de clasificación:\")\n",
        "    print(classification_report(y_test, y_pred))\n",
        "\n",
        "    # Importancia de características\n",
        "    feature_imp = pd.Series(best_rf.feature_importances_, index=X.columns).sort_values(ascending=False)\n",
        "    plt.figure(figsize=(10,6))\n",
        "    sns.barplot(x=feature_imp, y=feature_imp.index)\n",
        "    plt.title('Importancia de características')\n",
        "    plt.tight_layout()\n",
        "    plt.savefig('importancia_caracteristicas.png')\n",
        "    plt.show()\n",
        "\n",
        "    return best_rf\n",
        "\n",
        "modelo = entrenar_modelo(X, y)"
      ],
      "metadata": {
        "colab": {
          "base_uri": "https://localhost:8080/",
          "height": 879
        },
        "id": "ZeiDUazRpZM5",
        "outputId": "62b47976-346d-4c8b-b129-20bc8f516f21"
      },
      "execution_count": 18,
      "outputs": [
        {
          "output_type": "stream",
          "name": "stdout",
          "text": [
            "Fitting 5 folds for each of 216 candidates, totalling 1080 fits\n",
            "\n",
            "Mejor modelo: {'bootstrap': True, 'max_depth': None, 'min_samples_leaf': 1, 'min_samples_split': 2, 'n_estimators': 100}\n",
            "Accuracy: 1.0000\n",
            "\n",
            "Reporte de clasificación:\n",
            "              precision    recall  f1-score   support\n",
            "\n",
            "           0       1.00      1.00      1.00      2396\n",
            "           1       1.00      1.00      1.00      1310\n",
            "\n",
            "    accuracy                           1.00      3706\n",
            "   macro avg       1.00      1.00      1.00      3706\n",
            "weighted avg       1.00      1.00      1.00      3706\n",
            "\n"
          ]
        },
        {
          "output_type": "display_data",
          "data": {
            "text/plain": [
              "<Figure size 1000x600 with 1 Axes>"
            ],
            "image/png": "[encoded data removed]"
          },
          "metadata": {}
        }
      ]
    },
    {
      "cell_type": "markdown",
      "source": [
        "Técnicas adicionales para mejorar accuracy"
      ],
      "metadata": {
        "id": "ypry-fxnphzd"
      }
    },
    {
      "cell_type": "code",
      "source": [
        "def mejorar_accuracy(X, y):\n",
        "    # 1. Balanceo de clases (si hay desbalance)\n",
        "    from imblearn.over_sampling import SMOTE\n",
        "    smote = SMOTE(random_state=42)\n",
        "    X_res, y_res = smote.fit_resample(X, y)\n",
        "\n",
        "    # 2. Reducción de dimensionalidad\n",
        "    from sklearn.decomposition import PCA\n",
        "    pca = PCA(n_components=0.95)  # Mantener el 95% de varianza\n",
        "    X_pca = pca.fit_transform(X_res)\n",
        "\n",
        "    # 3. Ensamblado de modelos\n",
        "    from sklearn.ensemble import VotingClassifier\n",
        "    from sklearn.svm import SVC\n",
        "    from sklearn.linear_model import LogisticRegression\n",
        "\n",
        "    estimators = [\n",
        "        ('rf', RandomForestClassifier(n_estimators=200, random_state=42)),\n",
        "        ('svm', SVC(probability=True, random_state=42)),\n",
        "        ('lr', LogisticRegression(max_iter=1000, random_state=42))\n",
        "    ]\n",
        "\n",
        "    voting_clf = VotingClassifier(estimators=estimators, voting='soft')\n",
        "    voting_clf.fit(X_pca, y_res)\n",
        "\n",
        "    # Evaluar\n",
        "    X_train, X_test, y_train, y_test = train_test_split(X_pca, y_res, test_size=0.3, random_state=42)\n",
        "    y_pred = voting_clf.predict(X_test)\n",
        "    accuracy = accuracy_score(y_test, y_pred)\n",
        "\n",
        "    print(f\"\\nAccuracy con técnicas avanzadas: {accuracy:.4f}\")\n",
        "    print(\"\\nReporte de clasificación mejorado:\")\n",
        "    print(classification_report(y_test, y_pred))\n",
        "\n",
        "    return voting_clf\n",
        "\n",
        "modelo_mejorado = mejorar_accuracy(X, y)"
      ],
      "metadata": {
        "colab": {
          "base_uri": "https://localhost:8080/"
        },
        "id": "kUkpSfdhpiRo",
        "outputId": "f105ce00-5312-44f2-83aa-158fedc6854b"
      },
      "execution_count": 19,
      "outputs": [
        {
          "output_type": "stream",
          "name": "stdout",
          "text": [
            "\n",
            "Accuracy con técnicas avanzadas: 0.9973\n",
            "\n",
            "Reporte de clasificación mejorado:\n",
            "              precision    recall  f1-score   support\n",
            "\n",
            "           0       1.00      1.00      1.00      2416\n",
            "           1       1.00      1.00      1.00      2410\n",
            "\n",
            "    accuracy                           1.00      4826\n",
            "   macro avg       1.00      1.00      1.00      4826\n",
            "weighted avg       1.00      1.00      1.00      4826\n",
            "\n"
          ]
        }
      ]
    }
  ]
}