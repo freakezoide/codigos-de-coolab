{
  "nbformat": 4,
  "nbformat_minor": 0,
  "metadata": {
    "colab": {
      "provenance": [],
      "authorship_tag": "ABX9TyNGDli4+wtWQFNAG+my8Hj/",
      "include_colab_link": true
    },
    "kernelspec": {
      "name": "python3",
      "display_name": "Python 3"
    },
    "language_info": {
      "name": "python"
    }
  },
  "cells": [
    {
      "cell_type": "markdown",
      "metadata": {
        "id": "view-in-github",
        "colab_type": "text"
      },
      "source": [
        "<a href=\"https://colab.research.google.com/github/freakezoide/codigos-de-coolab/blob/main/carga_de_archivos_desde_drive.ipynb\" target=\"_parent\"><img src=\"https://colab.research.google.com/assets/colab-badge.svg\" alt=\"Open In Colab\"/></a>"
      ]
    },
    {
      "cell_type": "code",
      "source": [
        "import pandas as pd\n",
        "import numpy as np\n",
        "import matplotlib.pyplot as plt\n",
        "import seaborn as sns\n",
        "from google.colab import files  # Para cargar archivos desde tu computadora"
      ],
      "metadata": {
        "id": "02zj2vqiVNvx"
      },
      "execution_count": 3,
      "outputs": []
    },
    {
      "cell_type": "code",
      "source": [
        "from google.colab import drive\n",
        "drive.mount('/content/drive')\n",
        "\n",
        "# Ruta a tus archivos en Drive\n",
        "estudiantes_df = pd.read_csv('/content/drive/MyDrive/ruta/estudiantes.csv')\n",
        "docentes_df = pd.read_csv('/content/drive/MyDrive/ruta/docentes.csv')"
      ],
      "metadata": {
        "id": "LIDIwpbMVUEZ"
      },
      "execution_count": null,
      "outputs": []
    }
  ]
}