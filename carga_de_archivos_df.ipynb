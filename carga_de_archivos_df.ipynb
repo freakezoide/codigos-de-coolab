{
  "nbformat": 4,
  "nbformat_minor": 0,
  "metadata": {
    "colab": {
      "provenance": [],
      "authorship_tag": "ABX9TyMZ1d7T0Yo8Tc3jocHoxRDt",
      "include_colab_link": true
    },
    "kernelspec": {
      "name": "python3",
      "display_name": "Python 3"
    },
    "language_info": {
      "name": "python"
    }
  },
  "cells": [
    {
      "cell_type": "markdown",
      "metadata": {
        "id": "view-in-github",
        "colab_type": "text"
      },
      "source": [
        "<a href=\"https://colab.research.google.com/github/freakezoide/codigos-de-coolab/blob/main/carga_de_archivos_df.ipynb\" target=\"_parent\"><img src=\"https://colab.research.google.com/assets/colab-badge.svg\" alt=\"Open In Colab\"/></a>"
      ]
    },
    {
      "cell_type": "code",
      "source": [
        "import pandas as pd\n",
        "import numpy as np\n",
        "import matplotlib.pyplot as plt\n",
        "import seaborn as sns\n",
        "from google.colab import files  # Para cargar archivos desde tu computadora"
      ],
      "metadata": {
        "id": "2rpru82jUv0-"
      },
      "execution_count": 1,
      "outputs": []
    },
    {
      "cell_type": "code",
      "execution_count": null,
      "metadata": {
        "id": "MljNiE1NUr5k"
      },
      "outputs": [],
      "source": [
        "# Sube tus archivos CSV desde tu computadora\n",
        "uploaded = files.upload()\n",
        "\n",
        "# Carga los datos en DataFrames\n",
        "estudiantes_df = pd.read_csv(next(iter(uploaded.keys())))  # Primer archivo subido\n",
        "docentes_df = pd.read_csv(next(iter(uploaded.keys())))      # Segundo archivo subido"
      ]
    }
  ]
}